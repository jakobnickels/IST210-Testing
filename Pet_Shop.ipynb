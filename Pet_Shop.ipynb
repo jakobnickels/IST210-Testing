{
  "nbformat": 4,
  "nbformat_minor": 0,
  "metadata": {
    "colab": {
      "name": "Pet Shop",
      "provenance": [],
      "authorship_tag": "ABX9TyPGsQn0kZ7I3QJrILd/slKG",
      "include_colab_link": true
    },
    "kernelspec": {
      "name": "python3",
      "display_name": "Python 3"
    }
  },
  "cells": [
    {
      "cell_type": "markdown",
      "metadata": {
        "id": "view-in-github",
        "colab_type": "text"
      },
      "source": [
        "<a href=\"https://colab.research.google.com/github/jakobnickels/IST210-Testing/blob/master/Pet_Shop.ipynb\" target=\"_parent\"><img src=\"https://colab.research.google.com/assets/colab-badge.svg\" alt=\"Open In Colab\"/></a>"
      ]
    },
    {
      "cell_type": "markdown",
      "metadata": {
        "id": "sd94VgXQgnvD"
      },
      "source": [
        "![Pet Shop Entity Relationship Diagram](https://raw.githubusercontent.com/jakobnickels/IST210-Testing/master/Images/PetShopERD.png)"
      ]
    },
    {
      "cell_type": "markdown",
      "metadata": {
        "id": "IatTgRPMGvZd"
      },
      "source": [
        "This Entity Relationship Diagram refers to a business model for a Pet Shop that sells both animals and animal food to customers. Pets are stored in enclosures, which contain attributes for the amount of animals each can hold at once, its location relative to the store, and the size of the enclosure in feet. Each enclosure can contain multiple pets (from 0 to 25), but a pet can only reside in one enclosure at the same time. Pets have attributes as well - its enclosure key is stored alongside its name, species, and gender. Pet food also has its attributes, its official name, price, and manufacturer are stored inside the database. Both food and pets are purchased through transactions. A pet transaction must have at least one pet in it and can contain up to 50 pets in one purchase. Buying a pet places it inside a transaction, meaning that a pet can only be in one transaction. Food transactions function similarly, but up to 100 pet food can be purchased in a transaction, as it is much more likely for mass amounts of food to be bought than mass amounts of pets. Each of these transactions are linked to a customer, whose first name, last name, birthday, email, and loyalty membership are stored as attributes. The loyalty membership allows for discounts on pet and food transactions. While each transaction can only be performed by one customer, a customer does not necessarily have to perform both transactions. A customer buying from the shop can only purchase multiple pet transactions or multiple food transactions, up to 100 as stored in the database."
      ]
    }
  ]
}