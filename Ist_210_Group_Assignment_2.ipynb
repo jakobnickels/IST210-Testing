{
  "nbformat": 4,
  "nbformat_minor": 0,
  "metadata": {
    "colab": {
      "name": "Ist 210 Group Assignment 2",
      "provenance": [],
      "collapsed_sections": [],
      "include_colab_link": true
    },
    "kernelspec": {
      "name": "python3",
      "display_name": "Python 3"
    }
  },
  "cells": [
    {
      "cell_type": "markdown",
      "metadata": {
        "id": "view-in-github",
        "colab_type": "text"
      },
      "source": [
        "<a href=\"https://colab.research.google.com/github/jakobnickels/IST210-Testing/blob/master/Ist_210_Group_Assignment_2.ipynb\" target=\"_parent\"><img src=\"https://colab.research.google.com/assets/colab-badge.svg\" alt=\"Open In Colab\"/></a>"
      ]
    },
    {
      "cell_type": "markdown",
      "metadata": {
        "id": "UblhAIGuGF27"
      },
      "source": [
        "# Virtual Concert Hall -- Revised"
      ]
    },
    {
      "cell_type": "markdown",
      "metadata": {
        "id": "h2mJWTewHLSn"
      },
      "source": [
        "Draw IO Entity Relationship Diagram \n",
        "\n",
        "![Draw IO Entity Relationship Diagram](https://raw.githubusercontent.com/jakobnickels/IST210-Testing/master/Images/ist210ProjectRevised.png)"
      ]
    },
    {
      "cell_type": "markdown",
      "metadata": {
        "id": "WFQXwieoHiCe"
      },
      "source": [
        "### Description"
      ]
    },
    {
      "cell_type": "markdown",
      "metadata": {
        "id": "cKmoiVHrHnHF"
      },
      "source": [
        "Here is our revised entity relationship diagram. The five entities are still present (**Customer, Ticket, Concert, Orchestra, and Player**), however, there were some repeating attributes that needed to be adjusted. The first repeating attribute was TicketID, an attribute of **Customer**. However, since a customer can buy multiple tickets, it was a repeating attribute, so we resolved this issue by creating a new entity, **TicketData**. Another repeating attribute was PlayerID, originally an attribute of **Orchestra** (an orchestra has multiple players). We created a new entity, **PlayerData** to resolve this issue. Now onto the cardinalities: A customer can buy 1 to 100 tickets in a year, and a ticket is associated one and only one customer. A specific ticket (described by ticket ID) is associated with one and only one ticket. A ticket is what allows a customer to access the concert, and one specific ticket is associated with one and only one concert. However, a concert has up to 300 available openings. Each specific concert is performed by one and only one orchestra, and an orchestra can perform 1 to 50 concerts in a given year. In an orchestra, there can be 1 to 100 players, and each player is associated with one and only one player ID. Specific attributes were not adjusted from the original diagram, but a slight adjustment was made regarding how the entities are connected. In the original diagram, the customer and concert entities were connected (A customer sees a concert), but we revised that relationship in our diagram to instead connect a customer to a concert through their ticket instead. This is because it's more logical for a ticket to be connected to a specific concert than a customer connected to a specific concert. "
      ]
    }
  ]
}