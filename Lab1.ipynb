{
  "nbformat": 4,
  "nbformat_minor": 0,
  "metadata": {
    "colab": {
      "name": "Lab1.ipynb",
      "provenance": [],
      "authorship_tag": "ABX9TyN0GYcA/SjSjtX5FCqjEh42",
      "include_colab_link": true
    },
    "kernelspec": {
      "name": "python3",
      "display_name": "Python 3"
    }
  },
  "cells": [
    {
      "cell_type": "markdown",
      "metadata": {
        "id": "view-in-github",
        "colab_type": "text"
      },
      "source": [
        "<a href=\"https://colab.research.google.com/github/jakobnickels/IST210-Testing/blob/master/Lab1.ipynb\" target=\"_parent\"><img src=\"https://colab.research.google.com/assets/colab-badge.svg\" alt=\"Open In Colab\"/></a>"
      ]
    },
    {
      "cell_type": "markdown",
      "metadata": {
        "id": "875irPX1ftsR",
        "colab_type": "text"
      },
      "source": [
        "## Do you like using Jupyter Notebooks?"
      ]
    },
    {
      "cell_type": "markdown",
      "metadata": {
        "id": "bOaA6x0uf21-",
        "colab_type": "text"
      },
      "source": [
        "I find the premise of Jupyter Notebooks interesting, but I still need to get completely used to the user interface and quick navigation around Jupyter and Google Colab. I will probably start to enjoy Jupyter Notebooks more when the class begins to start inserting code blocks."
      ]
    },
    {
      "cell_type": "markdown",
      "metadata": {
        "id": "DASgSaaegd5q",
        "colab_type": "text"
      },
      "source": [
        "## What do you want to learn more about it Jupyter Notebooks?"
      ]
    },
    {
      "cell_type": "markdown",
      "metadata": {
        "id": "EylCuHcIgji3",
        "colab_type": "text"
      },
      "source": [
        "I'm interested to learn more about the coding side of Jupyter Notebooks and implementation of databases. More specifically, I'm curious as to how Jupyter Notebooks compares to the mySQL workbench and which one I'll prefer to use after the class ends."
      ]
    },
    {
      "cell_type": "markdown",
      "metadata": {
        "id": "sd94VgXQgnvD",
        "colab_type": "text"
      },
      "source": [
        "![random pixel art of a city on my computer](https://raw.githubusercontent.com/jakobnickels/IST210-Testing/master/Images/city.jpg)"
      ]
    }
  ]
}