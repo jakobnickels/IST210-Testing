{
  "nbformat": 4,
  "nbformat_minor": 0,
  "metadata": {
    "colab": {
      "name": "ist 210 project 1",
      "provenance": [],
      "include_colab_link": true
    },
    "kernelspec": {
      "name": "python3",
      "display_name": "Python 3"
    }
  },
  "cells": [
    {
      "cell_type": "markdown",
      "metadata": {
        "id": "view-in-github",
        "colab_type": "text"
      },
      "source": [
        "<a href=\"https://colab.research.google.com/github/jakobnickels/IST210-Testing/blob/master/ist_210_project_1.ipynb\" target=\"_parent\"><img src=\"https://colab.research.google.com/assets/colab-badge.svg\" alt=\"Open In Colab\"/></a>"
      ]
    },
    {
      "cell_type": "markdown",
      "metadata": {
        "id": "UblhAIGuGF27",
        "colab_type": "text"
      },
      "source": [
        "# Virtual Concert Hall"
      ]
    },
    {
      "cell_type": "markdown",
      "metadata": {
        "id": "RlR0_Ol4GW3b",
        "colab_type": "text"
      },
      "source": [
        "### what is your idea?"
      ]
    },
    {
      "cell_type": "markdown",
      "metadata": {
        "id": "HU68Zv5MGY97",
        "colab_type": "text"
      },
      "source": [
        "Our project is to create a database that stores information about a concert hall. This database will store data pertaining to customers, their tickets, and the orchestras and its performers."
      ]
    },
    {
      "cell_type": "markdown",
      "metadata": {
        "id": "45Q0PBrIGiIg",
        "colab_type": "text"
      },
      "source": [
        "### what makes it unique?"
      ]
    },
    {
      "cell_type": "markdown",
      "metadata": {
        "id": "8WOfTAuqGjoc",
        "colab_type": "text"
      },
      "source": [
        "What makes our orchestra unique is that it is a virtual orchestra. Instead of attending the concert live, customers can purchase virtual tickets that allows them to enjoy the concert from the comfort of their home. For the tickets, rather than having a specific seat number assigned, they have a four digit code that lets the customer enter the virtual concert."
      ]
    },
    {
      "cell_type": "markdown",
      "metadata": {
        "id": "dVrktWdXGl19",
        "colab_type": "text"
      },
      "source": [
        "### is this a brand-new product or business, or are you borrowing from another business?"
      ]
    },
    {
      "cell_type": "markdown",
      "metadata": {
        "id": "MmGY0leUGnaN",
        "colab_type": "text"
      },
      "source": [
        "This database is designed to mimic the structure and organization of existing concert halls. We will be borrowing typical entities and relationships that one would typically find in a basic concert hall database. A slight change from the functionality of a typical concert hall, however, is that customers will be viewing the concert online rather than in-person, which changes how customer and ticket management is handled."
      ]
    },
    {
      "cell_type": "markdown",
      "metadata": {
        "id": "k3oJzVDPGnws",
        "colab_type": "text"
      },
      "source": [
        "### describe a typical business interaction or a day at your business."
      ]
    },
    {
      "cell_type": "markdown",
      "metadata": {
        "id": "GeEKl-lUG1x5",
        "colab_type": "text"
      },
      "source": [
        "First, customers purchase tickets for a specific performance. The customer's name is stored inside the database alongside a specific ID (in case of generic duplicate names), and the tickets are stored inside the database as well with price and ticket code. The orchestra pertaining to the specific performance will take to the stage - its information and number of players is stored inside the database. Finally, the performance will start - its information is also stored alongside the date and time."
      ]
    },
    {
      "cell_type": "markdown",
      "metadata": {
        "id": "iUFoC5BuGpID",
        "colab_type": "text"
      },
      "source": [
        "### list your 5 entities/tables and for each, provide details about what data will be stored in the entities/tables."
      ]
    },
    {
      "cell_type": "markdown",
      "metadata": {
        "id": "AiZXrfSMGqZm",
        "colab_type": "text"
      },
      "source": [
        "1. Player\n",
        "\n",
        "(PK: Player ID, Player First Name, Player Last Name, Player Seating, Player Instrument) --\n",
        "This entity regards a player in an orchestra at the concert hall. Data is stored for the player's first and last name, their specific player ID to cover the rare instance where two or more players have the same name, their specific seating, and what instrument the player is playing for the orchestra they are a part of.\n",
        "\n",
        "2. Ticket\n",
        "\n",
        "(PK: Ticket ID, Ticket Price, Ticket Code) --\n",
        "This entity regards the ticket a customer purchases to gain access to a concert. The data stored inside this entity represents the ticket's unique ID so it can be found easily and the pricing of the specific ticket. In addition, a unique feature attributed to the virtual ticket is its four digit code that the user must enter to attend the concert online.\n",
        "\n",
        "3. Orchestras\n",
        "\n",
        "(PK: Orchestra ID, Orchestra Name, Orchestra Population) --\n",
        "This entity regards the orchestra playing for a concert. Data stored includes the unique Orchestra ID, the name of the Orchestra as displayed to the consumer, and the total orchestra population count of all its players.\n",
        "\n",
        "4. Customer\n",
        "\n",
        "(PK: Customer ID, Customer First Name, Customer Last Name, Customer E-mail) --\n",
        "This entity regards the customer which purchases tickets to a specific performance. Data stored for the customer includes a unique customer ID to handle the case of duplicate names, the customer's first and last names, and the customer's e-mail address.\n",
        "\n",
        "5. Concert\n",
        "\n",
        "(PK: Concert ID, Concert Name, Concert Time, Concert Date) --\n",
        "This entity regards the concert being performed at the concert hall. Data stored includes the unique ID for the concert, its name as displayed to the public, the time the concert starts, and the date of the performance day."
      ]
    },
    {
      "cell_type": "markdown",
      "metadata": {
        "id": "h2mJWTewHLSn",
        "colab_type": "text"
      },
      "source": [
        "Draw IO Entity Relationship Diagram \n",
        "\n",
        "![Draw IO Entity Relationship Diagram](https://raw.githubusercontent.com/jakobnickels/IST210-Testing/master/Images/ist210diagram.png)"
      ]
    },
    {
      "cell_type": "markdown",
      "metadata": {
        "id": "WFQXwieoHiCe",
        "colab_type": "text"
      },
      "source": [
        "### provide a goal for your project "
      ]
    },
    {
      "cell_type": "markdown",
      "metadata": {
        "id": "cKmoiVHrHnHF",
        "colab_type": "text"
      },
      "source": [
        "The goal for this project is to gain familiarity with the creation and structuring of a database. We found that the best way of accomplishing this was to relate it to something that both of us are well familiar with, being orchestral performance."
      ]
    }
  ]
}