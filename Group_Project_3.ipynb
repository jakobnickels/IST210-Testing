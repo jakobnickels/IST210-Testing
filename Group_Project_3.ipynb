{
  "nbformat": 4,
  "nbformat_minor": 0,
  "metadata": {
    "colab": {
      "name": "Group Project 3.ipynb",
      "provenance": [],
      "collapsed_sections": [],
      "include_colab_link": true
    },
    "kernelspec": {
      "name": "python3",
      "display_name": "Python 3"
    }
  },
  "cells": [
    {
      "cell_type": "markdown",
      "metadata": {
        "id": "view-in-github",
        "colab_type": "text"
      },
      "source": [
        "<a href=\"https://colab.research.google.com/github/jakobnickels/IST210-Testing/blob/master/Group_Project_3.ipynb\" target=\"_parent\"><img src=\"https://colab.research.google.com/assets/colab-badge.svg\" alt=\"Open In Colab\"/></a>"
      ]
    },
    {
      "cell_type": "markdown",
      "metadata": {
        "id": "jxSvfMp7OBHU"
      },
      "source": [
        "# Virtual Concert Hall Database"
      ]
    },
    {
      "cell_type": "markdown",
      "metadata": {
        "id": "qA91jdYfNIdx"
      },
      "source": [
        "Draw IO Entity Relationship Diagram \n",
        "\n",
        "![Draw IO Entity Relationship Diagram](https://raw.githubusercontent.com/jakobnickels/IST210-Testing/master/Images/ist210ProjectRevisedRevised.png)"
      ]
    },
    {
      "cell_type": "markdown",
      "metadata": {
        "id": "maZ-TYh5YSIj"
      },
      "source": [
        "**Diagram Revision Changes**\n",
        "\n",
        "*   ConcertName in the Ticket table was changed to ConcertID to better fit the foreign key relation in the Concert table.\n",
        "*   Name in the Concert table was changed to ConcertName to be more specific and differentiate from the Name attribute in the Orchestra table.\n",
        "*   Name in the Orchestra table was changed to OrchestraName to fit the naming convention created by the ConcertName change.\n",
        "\n",
        "\n",
        "\n"
      ]
    },
    {
      "cell_type": "code",
      "metadata": {
        "id": "UI0jBrdpMFaZ"
      },
      "source": [
        "%load_ext sql"
      ],
      "execution_count": null,
      "outputs": []
    },
    {
      "cell_type": "code",
      "metadata": {
        "colab": {
          "base_uri": "https://localhost:8080/",
          "height": 35
        },
        "id": "yLH3MBeAMHc6",
        "outputId": "cd0d9a64-5fac-4522-c498-42925b06470a"
      },
      "source": [
        "%sql sqlite:///ConcertHall.db"
      ],
      "execution_count": null,
      "outputs": [
        {
          "output_type": "execute_result",
          "data": {
            "application/vnd.google.colaboratory.intrinsic+json": {
              "type": "string"
            },
            "text/plain": [
              "'Connected: @ConcertHall.db'"
            ]
          },
          "metadata": {
            "tags": []
          },
          "execution_count": 3
        }
      ]
    },
    {
      "cell_type": "code",
      "metadata": {
        "colab": {
          "base_uri": "https://localhost:8080/"
        },
        "id": "ibBx8-fwMSDy",
        "outputId": "f0dab749-7e1c-4fd5-9ffb-cc7ac59c2795"
      },
      "source": [
        "%%sql \n",
        "create table Ticket(TicketID text primary key, Price real, TicketCode text, ConcertID text); \n",
        "create table TicketData(CustomerID text, TicketID text, primary key (CustomerID, TicketID));\n",
        "create table Customer(CustomerID text primary key, FirstName text, LastName text, Email text);\n",
        "create table Concert(ConcertID text primary key, ConcertName text, Time text, Date text, OrchestraID text);\n",
        "create table Orchestra(OrchestraID text primary key, OrchestraName text, Population int);\n",
        "create table PlayerData(PlayerID text, OrchestraID text, primary key (PlayerID, OrchestraID));\n",
        "create table Player(PlayerID text primary key, FirstName text, LastName text, Seating text, Instrument text); "
      ],
      "execution_count": null,
      "outputs": [
        {
          "output_type": "stream",
          "text": [
            " * sqlite:///ConcertHall.db\n",
            "Done.\n",
            "Done.\n",
            "Done.\n",
            "Done.\n",
            "Done.\n",
            "Done.\n",
            "Done.\n"
          ],
          "name": "stdout"
        },
        {
          "output_type": "execute_result",
          "data": {
            "text/plain": [
              "[]"
            ]
          },
          "metadata": {
            "tags": []
          },
          "execution_count": 4
        }
      ]
    },
    {
      "cell_type": "code",
      "metadata": {
        "colab": {
          "base_uri": "https://localhost:8080/"
        },
        "id": "f04TNWJNMsWa",
        "outputId": "c4d6a57d-2bfa-4256-f94c-0e703ee6ce3a"
      },
      "source": [
        "%%sql \n",
        "insert into Ticket values('21343', 6.50, '1234', 'Christmas Concert');\n",
        "insert into Ticket values('65436', 3.50, '4321', 'Summer Concert');\n",
        "insert into Ticket values('72466', 3.50, '1453', 'Summer Concert');\n",
        "insert into Ticket values('94032', 3.50, '7654', 'Summer Concert');\n",
        "insert into Ticket values('54002', 5.50, '3753', 'Thanksgiving Concert');\n",
        "\n",
        "insert into TicketData values('0123', '21343');\n",
        "insert into TicketData values('0124', '65436');\n",
        "insert into TicketData values('0125', '72466');\n",
        "insert into TicketData values('0126', '94032');\n",
        "insert into TicketData values('0127', '54002');\n",
        "\n",
        "insert into Customer values('0123', 'Albus', 'Dumbledore', 'adumbledore@hogwarts.com');\n",
        "insert into Customer values('0124', 'Harry', 'Potter', 'hpotter@hogwarts.com');\n",
        "insert into Customer values('0125', 'Ron', 'Weasley', 'rweasley@hogwarts.com');\n",
        "insert into Customer values('0126', 'Hermione', 'Granger', 'hgranger@hogwarts.com');\n",
        "insert into Customer values('0127', 'Draco', 'Malfoy', 'dmalfoy@hogwarts.com');\n",
        "\n",
        "insert into Concert values('010', 'Christmas Concert', '18:00', '12-23-2010', 'H17');\n",
        "insert into Concert values('011', 'Summer Concert', '12:00', '06-12-2012', 'H17');\n",
        "insert into Concert values('012', 'Spring Concert', '13:00', '04-03-2012', 'D12');\n",
        "insert into Concert values('013', 'Autumn Concert', '17:00', '09-13-2009', 'B03');\n",
        "insert into Concert values('014', 'Thanksgiving Concert', '19:00', '11-18-2015', 'H17');\n",
        "\n",
        "insert into Orchestra values('H17', 'Hogwarts Orchestra', 100);\n",
        "insert into Orchestra values('B03', 'Beauxbatons Orchestra', 74);\n",
        "insert into Orchestra values('D12', 'Durmstrang Orchestra', 92);\n",
        "insert into Orchestra values('I02', 'Ilvermorny Orchestra', 56);\n",
        "insert into Orchestra values('M01', 'Mahoutokoro Orchestra', 122);\n",
        "\n",
        "insert into PlayerData values('001', 'H17');\n",
        "insert into PlayerData values('432', 'B03');\n",
        "insert into PlayerData values('002', 'H17');\n",
        "insert into PlayerData values('752', 'D12');\n",
        "insert into PlayerData values('003', 'H17');\n",
        "\n",
        "insert into Player values('001', 'Luna', 'Lovegood', 'B02', 'Bass');\n",
        "insert into Player values('432', 'Fleur', 'Delacour', 'C09', 'Cello');\n",
        "insert into Player values('002', 'Fred', 'Weasley', 'N01', 'Violin');\n",
        "insert into Player values('752', 'Viktor', 'Krum', 'B04', 'Bass');\n",
        "insert into Player values('003', 'George', 'Weasley', 'A01', 'Viola');"
      ],
      "execution_count": null,
      "outputs": [
        {
          "output_type": "stream",
          "text": [
            " * sqlite:///ConcertHall.db\n",
            "1 rows affected.\n",
            "1 rows affected.\n",
            "1 rows affected.\n",
            "1 rows affected.\n",
            "1 rows affected.\n",
            "1 rows affected.\n",
            "1 rows affected.\n",
            "1 rows affected.\n",
            "1 rows affected.\n",
            "1 rows affected.\n",
            "1 rows affected.\n",
            "1 rows affected.\n",
            "1 rows affected.\n",
            "1 rows affected.\n",
            "1 rows affected.\n",
            "1 rows affected.\n",
            "1 rows affected.\n",
            "1 rows affected.\n",
            "1 rows affected.\n",
            "1 rows affected.\n",
            "1 rows affected.\n",
            "1 rows affected.\n",
            "1 rows affected.\n",
            "1 rows affected.\n",
            "1 rows affected.\n",
            "1 rows affected.\n",
            "1 rows affected.\n",
            "1 rows affected.\n",
            "1 rows affected.\n",
            "1 rows affected.\n",
            "1 rows affected.\n",
            "1 rows affected.\n",
            "1 rows affected.\n",
            "1 rows affected.\n",
            "1 rows affected.\n"
          ],
          "name": "stdout"
        },
        {
          "output_type": "execute_result",
          "data": {
            "text/plain": [
              "[]"
            ]
          },
          "metadata": {
            "tags": []
          },
          "execution_count": 5
        }
      ]
    },
    {
      "cell_type": "markdown",
      "metadata": {
        "id": "xZx55yykQB0F"
      },
      "source": [
        "**Question 1:**\n",
        "How many concerts did each orchestra perform? \n",
        "* This question is important because the amount of performaces an orchestra performs is often an important value to know. If someone was curious about the performance records of an orchestra, they could quickly utilize this line of code to figure that out. On top of that, this question allows us to combine many different SQL commands together, such as the join command and the group by command."
      ]
    },
    {
      "cell_type": "code",
      "metadata": {
        "colab": {
          "base_uri": "https://localhost:8080/",
          "height": 124
        },
        "id": "XUXGrW19M4HR",
        "outputId": "f7757f20-5b79-4038-de7a-853f863a5c3f"
      },
      "source": [
        "%%sql\n",
        "select o.OrchestraName, count(c.ConcertName) from Orchestra o, Concert c where o.OrchestraID = c.OrchestraID group by o.OrchestraName"
      ],
      "execution_count": null,
      "outputs": [
        {
          "output_type": "stream",
          "text": [
            " * sqlite:///ConcertHall.db\n",
            "Done.\n"
          ],
          "name": "stdout"
        },
        {
          "output_type": "execute_result",
          "data": {
            "text/html": [
              "<table>\n",
              "    <tr>\n",
              "        <th>OrchestraName</th>\n",
              "        <th>count(c.ConcertName)</th>\n",
              "    </tr>\n",
              "    <tr>\n",
              "        <td>Beauxbatons Orchestra</td>\n",
              "        <td>1</td>\n",
              "    </tr>\n",
              "    <tr>\n",
              "        <td>Durmstrang Orchestra</td>\n",
              "        <td>1</td>\n",
              "    </tr>\n",
              "    <tr>\n",
              "        <td>Hogwarts Orchestra</td>\n",
              "        <td>3</td>\n",
              "    </tr>\n",
              "</table>"
            ],
            "text/plain": [
              "[('Beauxbatons Orchestra', 1),\n",
              " ('Durmstrang Orchestra', 1),\n",
              " ('Hogwarts Orchestra', 3)]"
            ]
          },
          "metadata": {
            "tags": []
          },
          "execution_count": 6
        }
      ]
    },
    {
      "cell_type": "markdown",
      "metadata": {
        "id": "qu8ecbacREdq"
      },
      "source": [
        "**Question 2:**\n",
        "List the people in Hogwarts Orchestra whose last name starts with W. \n",
        "* This command is important for searching information pertaining to a specific subset of players, or when searching for an individual whose name is not fully remembered. For example, wanting to find a player whose last name you only know starts with W narrows down the list of people needed to search through by quite a bit.\n"
      ]
    },
    {
      "cell_type": "code",
      "metadata": {
        "colab": {
          "base_uri": "https://localhost:8080/",
          "height": 106
        },
        "id": "ORRk6a7gRJOI",
        "outputId": "68a30309-a2f7-4782-dbe3-2ca6610ba189"
      },
      "source": [
        "%%sql\n",
        "select * from Player p LEFT JOIN PlayerData d ON p.PlayerID = d.PlayerID WHERE p.LastName LIKE \"W%\" AND d.OrchestraID = \"H17\""
      ],
      "execution_count": null,
      "outputs": [
        {
          "output_type": "stream",
          "text": [
            " * sqlite:///ConcertHall.db\n",
            "Done.\n"
          ],
          "name": "stdout"
        },
        {
          "output_type": "execute_result",
          "data": {
            "text/html": [
              "<table>\n",
              "    <tr>\n",
              "        <th>PlayerID</th>\n",
              "        <th>FirstName</th>\n",
              "        <th>LastName</th>\n",
              "        <th>Seating</th>\n",
              "        <th>Instrument</th>\n",
              "        <th>PlayerID_1</th>\n",
              "        <th>OrchestraID</th>\n",
              "    </tr>\n",
              "    <tr>\n",
              "        <td>002</td>\n",
              "        <td>Fred</td>\n",
              "        <td>Weasley</td>\n",
              "        <td>N01</td>\n",
              "        <td>Violin</td>\n",
              "        <td>002</td>\n",
              "        <td>H17</td>\n",
              "    </tr>\n",
              "    <tr>\n",
              "        <td>003</td>\n",
              "        <td>George</td>\n",
              "        <td>Weasley</td>\n",
              "        <td>A01</td>\n",
              "        <td>Viola</td>\n",
              "        <td>003</td>\n",
              "        <td>H17</td>\n",
              "    </tr>\n",
              "</table>"
            ],
            "text/plain": [
              "[('002', 'Fred', 'Weasley', 'N01', 'Violin', '002', 'H17'),\n",
              " ('003', 'George', 'Weasley', 'A01', 'Viola', '003', 'H17')]"
            ]
          },
          "metadata": {
            "tags": []
          },
          "execution_count": 13
        }
      ]
    },
    {
      "cell_type": "markdown",
      "metadata": {
        "id": "9AXE-qYWVxBl"
      },
      "source": [
        "**Question 3:**\n",
        "* List all the performances by their date, with the earliest time at the top.\n",
        "\n",
        "This is important because if someone wanted to know which concerts happened at the earliest times (to see correlations betweent start time and some other variable, for example), then they could use this command. Also, a list of the times with the latest time could be achieved by adding a DESC at the end of the 'order by' command."
      ]
    },
    {
      "cell_type": "code",
      "metadata": {
        "colab": {
          "base_uri": "https://localhost:8080/",
          "height": 160
        },
        "id": "JHDYvqDoV45l",
        "outputId": "a56b75b6-fbf6-42fa-c522-3ea6e5ac248d"
      },
      "source": [
        "%%sql\n",
        "select c.Time, c.Date, c.ConcertName, o.OrchestraName from Concert c, Orchestra o where c.OrchestraID = o.OrchestraID order by c.Time"
      ],
      "execution_count": null,
      "outputs": [
        {
          "output_type": "stream",
          "text": [
            " * sqlite:///ConcertHall.db\n",
            "Done.\n"
          ],
          "name": "stdout"
        },
        {
          "output_type": "execute_result",
          "data": {
            "text/html": [
              "<table>\n",
              "    <tr>\n",
              "        <th>Time</th>\n",
              "        <th>Date</th>\n",
              "        <th>ConcertName</th>\n",
              "        <th>OrchestraName</th>\n",
              "    </tr>\n",
              "    <tr>\n",
              "        <td>12:00</td>\n",
              "        <td>06-12-2012</td>\n",
              "        <td>Summer Concert</td>\n",
              "        <td>Hogwarts Orchestra</td>\n",
              "    </tr>\n",
              "    <tr>\n",
              "        <td>13:00</td>\n",
              "        <td>04-03-2012</td>\n",
              "        <td>Spring Concert</td>\n",
              "        <td>Durmstrang Orchestra</td>\n",
              "    </tr>\n",
              "    <tr>\n",
              "        <td>17:00</td>\n",
              "        <td>09-13-2009</td>\n",
              "        <td>Autumn Concert</td>\n",
              "        <td>Beauxbatons Orchestra</td>\n",
              "    </tr>\n",
              "    <tr>\n",
              "        <td>18:00</td>\n",
              "        <td>12-23-2010</td>\n",
              "        <td>Christmas Concert</td>\n",
              "        <td>Hogwarts Orchestra</td>\n",
              "    </tr>\n",
              "    <tr>\n",
              "        <td>19:00</td>\n",
              "        <td>11-18-2015</td>\n",
              "        <td>Thanksgiving Concert</td>\n",
              "        <td>Hogwarts Orchestra</td>\n",
              "    </tr>\n",
              "</table>"
            ],
            "text/plain": [
              "[('12:00', '06-12-2012', 'Summer Concert', 'Hogwarts Orchestra'),\n",
              " ('13:00', '04-03-2012', 'Spring Concert', 'Durmstrang Orchestra'),\n",
              " ('17:00', '09-13-2009', 'Autumn Concert', 'Beauxbatons Orchestra'),\n",
              " ('18:00', '12-23-2010', 'Christmas Concert', 'Hogwarts Orchestra'),\n",
              " ('19:00', '11-18-2015', 'Thanksgiving Concert', 'Hogwarts Orchestra')]"
            ]
          },
          "metadata": {
            "tags": []
          },
          "execution_count": 12
        }
      ]
    }
  ]
}